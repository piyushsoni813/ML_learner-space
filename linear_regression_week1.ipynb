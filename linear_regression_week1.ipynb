{
  "nbformat": 4,
  "nbformat_minor": 0,
  "metadata": {
    "colab": {
      "provenance": []
    },
    "kernelspec": {
      "name": "python3",
      "display_name": "Python 3"
    },
    "language_info": {
      "name": "python"
    }
  },
  "cells": [
    {
      "cell_type": "code",
      "execution_count": 19,
      "metadata": {
        "id": "JMckpPrCqFiz"
      },
      "outputs": [],
      "source": [
        "import numpy as np\n",
        "import pandas as pd\n",
        "import matplotlib.pyplot as plt\n",
        "from sklearn.preprocessing import LabelEncoder\n",
        "\n",
        "# Aim is to predict the marks of students of the test data\n"
      ]
    },
    {
      "cell_type": "code",
      "source": [
        "\n",
        "data = pd.read_excel('Training data.xlsx')\n",
        "\n",
        "categorical_columns = data.select_dtypes(include=['object']).columns\n",
        "\n",
        "label_encoders = {}\n",
        "for col in categorical_columns:\n",
        "    label_encoders[col] = LabelEncoder()\n",
        "    data[col] = label_encoders[col].fit_transform(data[col])\n",
        "\n",
        "x_train = np.array(data.iloc[:, 0:8])\n",
        "y_train = np.array(data.iloc[:, 8]).reshape(-1, 1)\n",
        "\n",
        "def feature_changing(x_train):\n",
        "    return x_train\n",
        "\n",
        "x_train = feature_changing(x_train)\n"
      ],
      "metadata": {
        "id": "yFP_qcnaqKwg"
      },
      "execution_count": 20,
      "outputs": []
    },
    {
      "cell_type": "code",
      "source": [
        "def z_score(x_train):\n",
        "    x_mean = np.mean(x_train, axis=0)\n",
        "    x_std = np.std(x_train, axis=0)\n",
        "    x_train = (x_train - x_mean) / x_std\n",
        "    return x_train, x_std, x_mean\n"
      ],
      "metadata": {
        "id": "kLTsuiH7qYB9"
      },
      "execution_count": 21,
      "outputs": []
    },
    {
      "cell_type": "code",
      "source": [
        "def cost(x_train, y_train, w, b):\n",
        "    m = x_train.shape[0]\n",
        "    predictions = np.dot(x_train, w) + b\n",
        "    loss = np.sum((predictions - y_train) ** 2) / (2 * m)\n",
        "    return loss\n"
      ],
      "metadata": {
        "id": "4ouAyYrFqbJW"
      },
      "execution_count": 22,
      "outputs": []
    },
    {
      "cell_type": "code",
      "source": [
        "def gradient_descent(x_train, y_train, w, b, learning_rate=0.01):\n",
        "    m = x_train.shape[0]\n",
        "    predictions = np.dot(x_train, w) + b\n",
        "    error = predictions - y_train\n",
        "\n",
        "    dw = np.dot(x_train.T, error) / m\n",
        "    db = np.sum(error) / m\n",
        "\n",
        "    w -= learning_rate * dw\n",
        "    b -= learning_rate * db\n",
        "\n",
        "    return w, b\n"
      ],
      "metadata": {
        "id": "e9-ZkFVCqcFd"
      },
      "execution_count": 23,
      "outputs": []
    },
    {
      "cell_type": "code",
      "source": [
        "x_train = x_train.astype(np.float64)\n",
        "x_train, x_std, x_mean = z_score(x_train)\n",
        "\n",
        "np.random.seed(2147483647)\n",
        "w = np.random.randn(x_train.shape[1], 1)\n",
        "b = np.random.randn(1)\n",
        "\n",
        "old_cost = 0\n",
        "\n",
        "while abs(old_cost - cost(x_train, y_train, w, b)) > 0.00001:\n",
        "    old_cost = cost(x_train, y_train, w, b)\n",
        "    w, b = gradient_descent(x_train, y_train, w, b)\n",
        "\n",
        "test_data = pd.read_excel('Test data.xlsx')\n",
        "\n",
        "for col in categorical_columns:\n",
        "    test_data[col] = label_encoders[col].transform(test_data[col])\n",
        "\n",
        "x_predict = test_data.iloc[:, :8].to_numpy()\n",
        "x_predict = feature_changing(x_predict)\n",
        "x_predict = (x_predict - x_mean) / x_std\n",
        "ans = test_data.iloc[:, 8].to_numpy()\n",
        "\n",
        "y_predict = np.dot(x_predict, w) + b\n",
        "\n",
        "accuracy = 0\n",
        "for dim in range(len(ans)):\n",
        "    if abs(y_predict[dim] - ans[dim]) < 0.5:\n",
        "        accuracy += 1\n",
        "accuracy = round(accuracy * 100 / 200.0, 2)\n",
        "ok = 'Congratulations' if accuracy > 95 else 'Optimization required'\n",
        "print(f\"{ok}, your accuracy is {accuracy}%\")\n"
      ],
      "metadata": {
        "colab": {
          "base_uri": "https://localhost:8080/"
        },
        "id": "_-twrnslqgJd",
        "outputId": "5094e4fd-2386-4aec-bb6e-cd15b784332c"
      },
      "execution_count": 24,
      "outputs": [
        {
          "output_type": "stream",
          "name": "stdout",
          "text": [
            "Congratulations, your accuracy is 100.0%\n"
          ]
        }
      ]
    }
  ]
}